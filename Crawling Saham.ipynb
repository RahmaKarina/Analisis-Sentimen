{
 "cells": [
  {
   "cell_type": "code",
   "execution_count": 1,
   "id": "9aa2f99b",
   "metadata": {},
   "outputs": [],
   "source": [
    "import time\n",
    "import datetime\n",
    "import pandas as pd\n",
    "import csv"
   ]
  },
  {
   "cell_type": "code",
   "execution_count": 2,
   "id": "d50d895f",
   "metadata": {},
   "outputs": [],
   "source": [
    "ticker = 'GOTO.JK'\n",
    "period1 = int(time.mktime(datetime.datetime(2023, 3, 1, 23, 59).timetuple()))\n",
    "period2 = int(time.mktime(datetime.datetime(2023, 3, 31, 23, 59).timetuple()))\n",
    "interval = '1d'\n",
    "\n",
    "\n",
    "\n",
    "query_string = f'https://query1.finance.yahoo.com/v7/finance/download/{ticker}?period1={period1}&period2={period2}&interval={interval}&events=history&includeAdjustedClose=true'"
   ]
  },
  {
   "cell_type": "code",
   "execution_count": 3,
   "id": "8f988223",
   "metadata": {},
   "outputs": [],
   "source": [
    "df = pd.read_csv(query_string)\n",
    "df.to_csv('Goto_Maret.csv')"
   ]
  },
  {
   "cell_type": "code",
   "execution_count": null,
   "id": "14fa9d8c",
   "metadata": {},
   "outputs": [],
   "source": []
  }
 ],
 "metadata": {
  "kernelspec": {
   "display_name": "Python 3 (ipykernel)",
   "language": "python",
   "name": "python3"
  },
  "language_info": {
   "codemirror_mode": {
    "name": "ipython",
    "version": 3
   },
   "file_extension": ".py",
   "mimetype": "text/x-python",
   "name": "python",
   "nbconvert_exporter": "python",
   "pygments_lexer": "ipython3",
   "version": "3.9.13"
  }
 },
 "nbformat": 4,
 "nbformat_minor": 5
}
